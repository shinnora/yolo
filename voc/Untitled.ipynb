{
 "cells": [
  {
   "cell_type": "code",
   "execution_count": 2,
   "metadata": {},
   "outputs": [],
   "source": [
    "import os\n",
    "import sys\n",
    "from xml.etree import ElementTree\n",
    "from itertools import product\n",
    "import urllib.request as request\n",
    "\n",
    "import numpy as np\n",
    "from tqdm import tqdm\n",
    "from PIL import Image\n",
    "from PIL import ImageDraw\n",
    "import colorsys\n",
    "import matplotlib.pyplot as plt\n",
    "\n",
    "# ReNom version >= 2.3.0\n",
    "import renom as rm\n",
    "from renom.cuda import set_cuda_active\n",
    "from renom.utility.trainer import Trainer\n",
    "from renom.algorithm.image.detection.yolo import build_truth, Yolo, apply_nms, box_iou\n",
    "from renom.utility.distributor import ImageDetectionDistributor\n",
    "from renom.utility.image import *\n",
    "\n",
    "set_cuda_active(True)"
   ]
  },
  {
   "cell_type": "code",
   "execution_count": 3,
   "metadata": {},
   "outputs": [],
   "source": [
    "dataset_path = \"VOCdevkit/VOC2012/Annotations/\"\n",
    "\n",
    "train_file_list = [path for path in sorted(os.listdir(dataset_path)) if not \"2012_\" in path]\n",
    "test_file_list = [path for path in os.listdir(dataset_path) if \"2012_\" in path]\n",
    "\n",
    "tree = ElementTree.parse(os.path.join(dataset_path, train_file_list[-1]))"
   ]
  },
  {
   "cell_type": "code",
   "execution_count": 8,
   "metadata": {},
   "outputs": [],
   "source": [
    "def parse(node, indent=1):\n",
    "    print(\"{}{} {}\".format(\"  \"*indent, node.tag, node.text.strip()))\n",
    "    for child in node:\n",
    "        parse(child, indent+1)"
   ]
  },
  {
   "cell_type": "code",
   "execution_count": 9,
   "metadata": {},
   "outputs": [
    {
     "name": "stdout",
     "output_type": "stream",
     "text": [
      "  annotation \n",
      "    filename 2011_007214.jpg\n",
      "    folder VOC2011\n",
      "    object \n",
      "      name person\n",
      "      actions \n",
      "        jumping 0\n",
      "        other 1\n",
      "        phoning 0\n",
      "        playinginstrument 0\n",
      "        reading 0\n",
      "        ridingbike 0\n",
      "        ridinghorse 0\n",
      "        running 0\n",
      "        takingphoto 0\n",
      "        usingcomputer 0\n",
      "        walking 0\n",
      "      bndbox \n",
      "        xmax 274\n",
      "        xmin 77\n",
      "        ymax 375\n",
      "        ymin 67\n",
      "      difficult 0\n",
      "      pose Unspecified\n",
      "      point \n",
      "        x 154\n",
      "        y 151\n",
      "    object \n",
      "      name person\n",
      "      actions \n",
      "        jumping 0\n",
      "        other 1\n",
      "        phoning 0\n",
      "        playinginstrument 0\n",
      "        reading 0\n",
      "        ridingbike 0\n",
      "        ridinghorse 0\n",
      "        running 0\n",
      "        takingphoto 0\n",
      "        usingcomputer 0\n",
      "        walking 0\n",
      "      bndbox \n",
      "        xmax 500\n",
      "        xmin 182\n",
      "        ymax 375\n",
      "        ymin 1\n",
      "      difficult 0\n",
      "      pose Unspecified\n",
      "      point \n",
      "        x 411\n",
      "        y 146\n",
      "    segmented 0\n",
      "    size \n",
      "      depth 3\n",
      "      height 375\n",
      "      width 500\n",
      "    source \n",
      "      annotation PASCAL VOC2011\n",
      "      database The VOC2011 Database\n",
      "      image flickr\n"
     ]
    }
   ],
   "source": [
    "parse(tree.getroot())"
   ]
  },
  {
   "cell_type": "code",
   "execution_count": null,
   "metadata": {},
   "outputs": [],
   "source": []
  }
 ],
 "metadata": {
  "kernelspec": {
   "display_name": "Python 3",
   "language": "python",
   "name": "python3"
  },
  "language_info": {
   "codemirror_mode": {
    "name": "ipython",
    "version": 3
   },
   "file_extension": ".py",
   "mimetype": "text/x-python",
   "name": "python",
   "nbconvert_exporter": "python",
   "pygments_lexer": "ipython3",
   "version": "3.6.0"
  }
 },
 "nbformat": 4,
 "nbformat_minor": 2
}
